{
 "cells": [
  {
   "cell_type": "markdown",
   "metadata": {},
   "source": [
    "<h2>Read Headline & Teaser with BeautifulSoup</h2>"
   ]
  },
  {
   "cell_type": "code",
   "execution_count": 77,
   "metadata": {},
   "outputs": [],
   "source": [
    "MarsMasterDictionary = {\n",
    "        \"Head\":head,\n",
    "        \"Teaser\":teaser,\n",
    "        \"Feat\":featured_image_url,\n",
    "        \"Weather\":mars_weather,\n",
    "        \"Facts\":mars_facts,\n",
    "        \"HemiImages\":HemispheresAlt\n",
    "    }\n"
   ]
  },
  {
   "cell_type": "code",
   "execution_count": 78,
   "metadata": {},
   "outputs": [],
   "source": [
    "from bs4 import BeautifulSoup\n",
    "import requests"
   ]
  },
  {
   "cell_type": "code",
   "execution_count": 79,
   "metadata": {},
   "outputs": [
    {
     "name": "stdout",
     "output_type": "stream",
     "text": [
      "-----------------\n",
      "NASA Invites Students to Name Mars 2020 Rover\n",
      "Through Nov. 1, K-12 students in the U.S. are encouraged to enter an essay contest to name NASA's next Mars rover.\n"
     ]
    }
   ],
   "source": [
    "#using 'requests' to get news from nasa url, translating to html\n",
    "news_url = \"https://mars.nasa.gov/news/\"\n",
    "response = requests.get(news_url)\n",
    "soup = BeautifulSoup(response.text,\"html.parser\")\n",
    "\n",
    "#finding \"Features\" on nasa website, iterating through to save first headline and teaser paragraph\n",
    "Features = soup.find_all(\"div\",class_=\"features\")\n",
    "for feature in Features:\n",
    "\n",
    "    headTitle = feature.find(\"div\",attrs={\"class\":\"content_title\"})\n",
    "    head = headTitle.find(\"a\",href=True).text.strip(\"\\n\")\n",
    "    teaser = feature.find(\"div\",attrs={\"class\":\"rollover_description_inner\"}).text.strip(\"\\n\")\n",
    "    browser.quit\n",
    "    print('-----------------')\n",
    "    print(head)\n",
    "    print(teaser)"
   ]
  },
  {
   "cell_type": "markdown",
   "metadata": {},
   "source": [
    "<h2>Save Image with BeautifulSoup and Splinter</h2>"
   ]
  },
  {
   "cell_type": "code",
   "execution_count": 80,
   "metadata": {},
   "outputs": [
    {
     "data": {
      "text/plain": [
       "'https://www.jpl.nasa.gov/spaceimages/images/mediumsize/PIA18432_ip.jpg'"
      ]
     },
     "execution_count": 80,
     "metadata": {},
     "output_type": "execute_result"
    }
   ],
   "source": [
    "from splinter import Browser\n",
    "from bs4 import BeautifulSoup\n",
    "\n",
    "# opening Chrome browser, visiting nasa url\n",
    "executable_path = {'executable_path': '/usr/local/bin/chromedriver'}\n",
    "browser = Browser('chrome', **executable_path, headless=False)\n",
    "url = 'https://www.jpl.nasa.gov/spaceimages/?search=&category=Mars'\n",
    "browser.visit(url)\n",
    "\n",
    "#translating web page into html\n",
    "html = browser.html\n",
    "soup = BeautifulSoup(html, 'html.parser')\n",
    "\n",
    "#finding featured image and concatinating url with endpoint to save url for featured image\n",
    "marsPic3 = soup.find(\"article\",class_=\"carousel_item\")\n",
    "link = marsPic3.a['data-fancybox-href']\n",
    "featured_image_url = (f\"https://www.jpl.nasa.gov{link}\")\n",
    "browser.visit(featured_image_url)\n",
    "featured_image_url"
   ]
  },
  {
   "cell_type": "markdown",
   "metadata": {},
   "source": [
    "<h2>Mars Weather scraped from twitter</h2>"
   ]
  },
  {
   "cell_type": "code",
   "execution_count": 81,
   "metadata": {},
   "outputs": [],
   "source": [
    "from splinter import Browser\n",
    "from bs4 import BeautifulSoup\n",
    "\n",
    "#opening chrome browser and visiting mars's twitter feed\n",
    "executable_path = {'executable_path': '/usr/local/bin/chromedriver'}\n",
    "browser = Browser('chrome', **executable_path, headless=False)\n",
    "weather_url = \"https://twitter.com/marswxreport?lang=en\"\n",
    "browser.visit(weather_url)"
   ]
  },
  {
   "cell_type": "code",
   "execution_count": 82,
   "metadata": {},
   "outputs": [],
   "source": [
    "#translating twitter page into html\n",
    "html = browser.html\n",
    "soup = BeautifulSoup(html, 'html.parser')\n",
    "\n",
    "#parsing html to save most recent weather report\n",
    "mars_weather = soup.find(\"div\", id=\"timeline\").\\\n",
    "    find(\"p\",class_=\"TweetTextSize TweetTextSize--normal js-tweet-text tweet-text\").text\n",
    "mars_weather"
   ]
  },
  {
   "cell_type": "markdown",
   "metadata": {},
   "source": [
    "<h2>Using Pandas to read table on Space Facts website</h2>"
   ]
  },
  {
   "cell_type": "code",
   "execution_count": 83,
   "metadata": {},
   "outputs": [],
   "source": [
    "#using pandas to read one of the tables on website and saving as a dataframe\n",
    "import pandas\n",
    "mars_facts_scrape = pandas.read_html(\"https://space-facts.com/mars/\")\n",
    "mars_facts_df = mars_facts_scrape[1]\n",
    "mars_facts_df"
   ]
  },
  {
   "cell_type": "code",
   "execution_count": 84,
   "metadata": {},
   "outputs": [],
   "source": [
    "#converting dataframe to html table\n",
    "mars_facts = mars_facts_df.to_html()\n",
    "mars_facts"
   ]
  },
  {
   "cell_type": "markdown",
   "metadata": {},
   "source": [
    "<h2>Mars Hemispheres</h2>"
   ]
  },
  {
   "cell_type": "code",
   "execution_count": 85,
   "metadata": {},
   "outputs": [],
   "source": [
    "from splinter import Browser\n",
    "from bs4 import BeautifulSoup\n",
    "\n",
    "#using BeautifulSoup and Splinter to open Chrome browser and navigate to Astrogeology web page\n",
    "executable_path = {'executable_path': '/usr/local/bin/chromedriver'}\n",
    "browser = Browser('chrome', **executable_path, headless=False)\n",
    "url = 'https://astrogeology.usgs.gov/search/results?q=hemisphere+enhanced&k1=target&v1=Mars'\n",
    "browser.visit(url)\n",
    "\n",
    "#translating webpage into html\n",
    "html = browser.html\n",
    "soup = BeautifulSoup(html, 'html.parser')"
   ]
  },
  {
   "cell_type": "code",
   "execution_count": 86,
   "metadata": {},
   "outputs": [],
   "source": [
    "#using splinter to iterate through page and click on first four links that contain the word \"Enhanced\"\n",
    "#saving the title and endpoint of each picture as dictionary\n",
    "#appending a list of dictionaries\n",
    "\n",
    "Hemispheres = []\n",
    "HemispheresAlt = []\n",
    "\n",
    "for i in range(4):\n",
    "\n",
    "    browser.click_link_by_partial_text(\"Enhanced\")\n",
    "    html = browser.html\n",
    "    soup = BeautifulSoup(html, 'html.parser')\n",
    "    hemi_title = soup.find(\"div\",class_=\"container\").find(\"h2\",class_=\"title\").text\n",
    "    hemi_image = soup.find(\"a\",target=\"_blank\")[\"href\"]\n",
    "    image_url = (f\"https://astrogeology.usgs.gov{hemi_image}\")\n",
    "\n",
    "    hemiDict = {f\"hemiTitle{i}\": hemi_title, f\"hemiImage{i}\": hemi_image}\n",
    "    hemiDictAlt = {\"hemiTitle\":hemi_title,\"hemiImage\":hemi_image}\n",
    "\n",
    "    Hemispheres.append(hemiDict)\n",
    "    HemispheresAlt.append(hemiDictAlt)"
   ]
  },
  {
   "cell_type": "code",
   "execution_count": 87,
   "metadata": {},
   "outputs": [],
   "source": [
    "#list of title/image numbered dictionaries \n",
    "Hemispheres"
   ]
  },
  {
   "cell_type": "code",
   "execution_count": 88,
   "metadata": {},
   "outputs": [],
   "source": [
    "#list of title/image non-numbered dictionaries. Not sure which will be ultimately used  \n",
    "HemispheresAlt"
   ]
  },
  {
   "cell_type": "code",
   "execution_count": 89,
   "metadata": {},
   "outputs": [
    {
     "data": {
      "text/plain": [
       "{'Head': 'NASA Invites Students to Name Mars 2020 Rover',\n",
       " 'Teaser': \"Through Nov. 1, K-12 students in the U.S. are encouraged to enter an essay contest to name NASA's next Mars rover.\",\n",
       " 'Feat': 'https://www.jpl.nasa.gov/spaceimages/images/mediumsize/PIA17254_ip.jpg',\n",
       " 'Weather': 'InSight sol 320 (2019-10-21) low -102.4ºC (-152.3ºF) high -25.6ºC (-14.0ºF)\\nwinds from the SSE at 4.7 m/s (10.5 mph) gusting to 18.5 m/s (41.4 mph)\\npressure at 7.10 hPapic.twitter.com/TxQmtXP7xo',\n",
       " 'Facts': '<table border=\"1\" class=\"dataframe\">\\n  <thead>\\n    <tr style=\"text-align: right;\">\\n      <th></th>\\n      <th>0</th>\\n      <th>1</th>\\n    </tr>\\n  </thead>\\n  <tbody>\\n    <tr>\\n      <th>0</th>\\n      <td>Equatorial Diameter:</td>\\n      <td>6,792 km</td>\\n    </tr>\\n    <tr>\\n      <th>1</th>\\n      <td>Polar Diameter:</td>\\n      <td>6,752 km</td>\\n    </tr>\\n    <tr>\\n      <th>2</th>\\n      <td>Mass:</td>\\n      <td>6.39 × 10^23 kg (0.11 Earths)</td>\\n    </tr>\\n    <tr>\\n      <th>3</th>\\n      <td>Moons:</td>\\n      <td>2 (Phobos &amp; Deimos)</td>\\n    </tr>\\n    <tr>\\n      <th>4</th>\\n      <td>Orbit Distance:</td>\\n      <td>227,943,824 km (1.38 AU)</td>\\n    </tr>\\n    <tr>\\n      <th>5</th>\\n      <td>Orbit Period:</td>\\n      <td>687 days (1.9 years)</td>\\n    </tr>\\n    <tr>\\n      <th>6</th>\\n      <td>Surface Temperature:</td>\\n      <td>-87 to -5 °C</td>\\n    </tr>\\n    <tr>\\n      <th>7</th>\\n      <td>First Record:</td>\\n      <td>2nd millennium BC</td>\\n    </tr>\\n    <tr>\\n      <th>8</th>\\n      <td>Recorded By:</td>\\n      <td>Egyptian astronomers</td>\\n    </tr>\\n  </tbody>\\n</table>',\n",
       " 'HemiImages': [{'hemiTitle': 'Cerberus Hemisphere Enhanced',\n",
       "   'hemiImage': 'http://astropedia.astrogeology.usgs.gov/download/Mars/Viking/cerberus_enhanced.tif/full.jpg'},\n",
       "  {'hemiTitle': 'Valles Marineris Hemisphere Enhanced',\n",
       "   'hemiImage': 'http://astropedia.astrogeology.usgs.gov/download/Mars/Viking/valles_marineris_enhanced.tif/full.jpg'},\n",
       "  {'hemiTitle': 'Syrtis Major Hemisphere Enhanced',\n",
       "   'hemiImage': 'http://astropedia.astrogeology.usgs.gov/download/Mars/Viking/syrtis_major_enhanced.tif/full.jpg'},\n",
       "  {'hemiTitle': 'Valles Marineris Hemisphere Enhanced',\n",
       "   'hemiImage': 'http://astropedia.astrogeology.usgs.gov/download/Mars/Viking/valles_marineris_enhanced.tif/full.jpg'}]}"
      ]
     },
     "execution_count": 89,
     "metadata": {},
     "output_type": "execute_result"
    }
   ],
   "source": [
    "MarsMasterDictionary"
   ]
  },
  {
   "cell_type": "code",
   "execution_count": null,
   "metadata": {},
   "outputs": [],
   "source": []
  }
 ],
 "metadata": {
  "kernelspec": {
   "display_name": "Python 3",
   "language": "python",
   "name": "python3"
  },
  "language_info": {
   "codemirror_mode": {
    "name": "ipython",
    "version": 3
   },
   "file_extension": ".py",
   "mimetype": "text/x-python",
   "name": "python",
   "nbconvert_exporter": "python",
   "pygments_lexer": "ipython3",
   "version": "3.7.1"
  }
 },
 "nbformat": 4,
 "nbformat_minor": 4
}
